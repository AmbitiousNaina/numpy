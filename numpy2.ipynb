{
  "nbformat": 4,
  "nbformat_minor": 0,
  "metadata": {
    "colab": {
      "provenance": []
    },
    "kernelspec": {
      "name": "python3",
      "display_name": "Python 3"
    },
    "language_info": {
      "name": "python"
    }
  },
  "cells": [
    {
      "cell_type": "code",
      "execution_count": null,
      "metadata": {
        "id": "dydh4zaLaq7G"
      },
      "outputs": [],
      "source": [
        "import numpy as np"
      ]
    },
    {
      "cell_type": "code",
      "source": [
        "arr = np.arange(10)\n",
        "print(arr)\n",
        "print(type(arr))"
      ],
      "metadata": {
        "colab": {
          "base_uri": "https://localhost:8080/"
        },
        "id": "3jaeeAF0a1WW",
        "outputId": "ee9fc429-fb64-44da-e10a-a738d1fd464e"
      },
      "execution_count": null,
      "outputs": [
        {
          "output_type": "stream",
          "name": "stdout",
          "text": [
            "[0 1 2 3 4 5 6 7 8 9]\n",
            "<class 'numpy.ndarray'>\n"
          ]
        }
      ]
    },
    {
      "cell_type": "code",
      "source": [
        "arr = np.arange(2,20,3)\n",
        "print(arr)\n",
        "print(type(arr))"
      ],
      "metadata": {
        "colab": {
          "base_uri": "https://localhost:8080/"
        },
        "id": "OtgVLu4EbiC0",
        "outputId": "fa3abb0e-fc89-45c7-d8d8-b97ab81d470f"
      },
      "execution_count": null,
      "outputs": [
        {
          "output_type": "stream",
          "name": "stdout",
          "text": [
            "[ 2  5  8 11 14 17]\n",
            "<class 'numpy.ndarray'>\n"
          ]
        }
      ]
    },
    {
      "cell_type": "markdown",
      "source": [
        "Operations arithmetic & statistical on Array"
      ],
      "metadata": {
        "id": "0p4Jxdkzb4Hx"
      }
    },
    {
      "cell_type": "code",
      "source": [
        "array = np.arange(10)\n",
        "print(array)\n",
        "print(type(array))\n",
        "print(array.sum())"
      ],
      "metadata": {
        "colab": {
          "base_uri": "https://localhost:8080/"
        },
        "id": "ckA3KOWfcctu",
        "outputId": "c9c8ba7f-d0c7-443d-c070-14ce72037748"
      },
      "execution_count": null,
      "outputs": [
        {
          "output_type": "stream",
          "name": "stdout",
          "text": [
            "[0 1 2 3 4 5 6 7 8 9]\n",
            "<class 'numpy.ndarray'>\n",
            "45\n"
          ]
        }
      ]
    },
    {
      "cell_type": "code",
      "source": [
        "print(array.mean())\n"
      ],
      "metadata": {
        "colab": {
          "base_uri": "https://localhost:8080/"
        },
        "id": "EDRoz-5VdGff",
        "outputId": "369f3be8-4f46-4ed4-a555-8048bf9cb732"
      },
      "execution_count": null,
      "outputs": [
        {
          "output_type": "stream",
          "name": "stdout",
          "text": [
            "4.5\n"
          ]
        }
      ]
    },
    {
      "cell_type": "code",
      "source": [
        "print(array.max())\n",
        "print(array.min())\n",
        "print(array.tolist())\n",
        "print(array.std())"
      ],
      "metadata": {
        "colab": {
          "base_uri": "https://localhost:8080/"
        },
        "id": "aC6yeEJkdgYI",
        "outputId": "128c5869-b048-49f9-e00e-dea2cb995c4e"
      },
      "execution_count": null,
      "outputs": [
        {
          "output_type": "stream",
          "name": "stdout",
          "text": [
            "9\n",
            "0\n",
            "[0, 1, 2, 3, 4, 5, 6, 7, 8, 9]\n",
            "2.8722813232690143\n"
          ]
        }
      ]
    },
    {
      "cell_type": "markdown",
      "source": [
        "All 1's & 0's"
      ],
      "metadata": {
        "id": "41vgQMjpeVeD"
      }
    },
    {
      "cell_type": "code",
      "source": [
        "zero = np.zeros([2,3], dtype =int)\n",
        "print(zero)\n",
        "print(type(zero))"
      ],
      "metadata": {
        "colab": {
          "base_uri": "https://localhost:8080/"
        },
        "id": "exmzfZaqeXs6",
        "outputId": "2cb5d67b-dae7-45f6-d1e5-585d9c30cfdb"
      },
      "execution_count": null,
      "outputs": [
        {
          "output_type": "stream",
          "name": "stdout",
          "text": [
            "[[0 0 0]\n",
            " [0 0 0]]\n",
            "<class 'numpy.ndarray'>\n"
          ]
        }
      ]
    },
    {
      "cell_type": "code",
      "source": [
        "one = np.ones([4,5], dtype =int)\n",
        "print(one)\n",
        "print(type(one))"
      ],
      "metadata": {
        "colab": {
          "base_uri": "https://localhost:8080/"
        },
        "id": "yooh8hD3fKQt",
        "outputId": "41b0605a-87dd-46e8-f03d-ed0aab25d4aa"
      },
      "execution_count": null,
      "outputs": [
        {
          "output_type": "stream",
          "name": "stdout",
          "text": [
            "[[1 1 1 1 1]\n",
            " [1 1 1 1 1]\n",
            " [1 1 1 1 1]\n",
            " [1 1 1 1 1]]\n",
            "<class 'numpy.ndarray'>\n"
          ]
        }
      ]
    },
    {
      "cell_type": "code",
      "source": [
        "one = np.ones([4,5], dtype =int)\n",
        "a = one * 30\n",
        "print(\"Array with value as 30\")\n",
        "print(a)\n",
        "print(type(a))"
      ],
      "metadata": {
        "colab": {
          "base_uri": "https://localhost:8080/"
        },
        "id": "a9FReOO3eVKb",
        "outputId": "438bd29f-0676-4355-99d9-68d01a033cf1"
      },
      "execution_count": null,
      "outputs": [
        {
          "output_type": "stream",
          "name": "stdout",
          "text": [
            "Array with value as 30\n",
            "[[30 30 30 30 30]\n",
            " [30 30 30 30 30]\n",
            " [30 30 30 30 30]\n",
            " [30 30 30 30 30]]\n",
            "<class 'numpy.ndarray'>\n"
          ]
        }
      ]
    },
    {
      "cell_type": "code",
      "source": [
        "\n",
        "o= np.full((2, 3), 5)\n",
        "print(o)"
      ],
      "metadata": {
        "colab": {
          "base_uri": "https://localhost:8080/"
        },
        "id": "5GfWmjlBhTaN",
        "outputId": "c85e6ffd-9a35-4949-abbc-4445f25017ea"
      },
      "execution_count": null,
      "outputs": [
        {
          "output_type": "stream",
          "name": "stdout",
          "text": [
            "[[5 5 5]\n",
            " [5 5 5]]\n"
          ]
        }
      ]
    },
    {
      "cell_type": "markdown",
      "source": [
        "Create an identity matrix -"
      ],
      "metadata": {
        "id": "RlyBhK03h2tt"
      }
    },
    {
      "cell_type": "code",
      "source": [
        "a = np.eye(4, dtype = int)\n",
        "print(a)"
      ],
      "metadata": {
        "colab": {
          "base_uri": "https://localhost:8080/"
        },
        "id": "Khwuc-F7iDCR",
        "outputId": "79389a94-f972-4ed4-99a8-fa9d379ad6cc"
      },
      "execution_count": null,
      "outputs": [
        {
          "output_type": "stream",
          "name": "stdout",
          "text": [
            "[[1 0 0 0]\n",
            " [0 1 0 0]\n",
            " [0 0 1 0]\n",
            " [0 0 0 1]]\n"
          ]
        }
      ]
    },
    {
      "cell_type": "code",
      "source": [
        "b = np.diag([10, 5, 30])\n",
        "print(b)\n",
        "print(type(b))"
      ],
      "metadata": {
        "colab": {
          "base_uri": "https://localhost:8080/"
        },
        "id": "rGzsYj5wjVRk",
        "outputId": "8028dd7e-e215-4ea3-fa52-28fc5055d55e"
      },
      "execution_count": null,
      "outputs": [
        {
          "output_type": "stream",
          "name": "stdout",
          "text": [
            "[[10  0  0]\n",
            " [ 0  5  0]\n",
            " [ 0  0 30]]\n",
            "<class 'numpy.ndarray'>\n"
          ]
        }
      ]
    },
    {
      "cell_type": "code",
      "source": [],
      "metadata": {
        "id": "zjU7Lxedtt9r"
      },
      "execution_count": null,
      "outputs": []
    },
    {
      "cell_type": "markdown",
      "source": [
        "Random numbers"
      ],
      "metadata": {
        "id": "a4AWbNMnkLUH"
      }
    },
    {
      "cell_type": "code",
      "source": [
        "from numpy import random\n",
        "x = random.randint(1000)\n",
        "print(x)\n"
      ],
      "metadata": {
        "colab": {
          "base_uri": "https://localhost:8080/"
        },
        "id": "9J5fm9X4nPjF",
        "outputId": "be23f673-a597-474e-ea3d-a4ca5c38fdca"
      },
      "execution_count": null,
      "outputs": [
        {
          "output_type": "stream",
          "name": "stdout",
          "text": [
            "486\n"
          ]
        }
      ]
    },
    {
      "cell_type": "code",
      "source": [
        "import numpy.random as np\n",
        "x = np.randint(10000)\n",
        "print(x)\n",
        "print(type(x))"
      ],
      "metadata": {
        "colab": {
          "base_uri": "https://localhost:8080/"
        },
        "id": "gEmea99Fop_Z",
        "outputId": "20fcedc9-c527-45ff-c946-1bc3a42e815b"
      },
      "execution_count": null,
      "outputs": [
        {
          "output_type": "stream",
          "name": "stdout",
          "text": [
            "935\n"
          ]
        }
      ]
    },
    {
      "cell_type": "code",
      "source": [
        "import numpy.random as np\n",
        "import numpy as np1\n",
        "x = np.randint(10000, size = (5))\n",
        "print(x)\n",
        "print(type(x))"
      ],
      "metadata": {
        "colab": {
          "base_uri": "https://localhost:8080/"
        },
        "id": "U6t5IdUwqPM1",
        "outputId": "60ee2d36-8715-4a09-ba70-9ebed9c5d53b"
      },
      "execution_count": null,
      "outputs": [
        {
          "output_type": "stream",
          "name": "stdout",
          "text": [
            "[4248 6788  615 1148  240]\n",
            "<class 'numpy.ndarray'>\n"
          ]
        }
      ]
    },
    {
      "cell_type": "code",
      "source": [
        "x = np.rand()\n",
        "print(x)"
      ],
      "metadata": {
        "colab": {
          "base_uri": "https://localhost:8080/"
        },
        "id": "Jq4AFa-hqpe2",
        "outputId": "c967f01b-d3cd-4872-e3e9-8832f0fb7e3e"
      },
      "execution_count": null,
      "outputs": [
        {
          "output_type": "stream",
          "name": "stdout",
          "text": [
            "0.2646520603073047\n"
          ]
        }
      ]
    },
    {
      "cell_type": "code",
      "source": [
        "x = np.randn()\n",
        "print(x)"
      ],
      "metadata": {
        "colab": {
          "base_uri": "https://localhost:8080/"
        },
        "id": "LtET23zBrSx3",
        "outputId": "2b8f3a27-d772-4d9b-e0cb-d0b4e829c5b6"
      },
      "execution_count": null,
      "outputs": [
        {
          "output_type": "stream",
          "name": "stdout",
          "text": [
            "0.05819296939489666\n"
          ]
        }
      ]
    },
    {
      "cell_type": "code",
      "source": [
        "import numpy as np1\n",
        "A=np1.array([1,2,3,4,5,6,7])\n",
        "B=np1.array([2,5,7,8,9])\n",
        "A\n",
        "B\n",
        "print(np1.intersect1d(A,B))\n",
        "print(np1.setdiff1d(A,B))\n",
        "print(np1.setdiff1d(B,A))"
      ],
      "metadata": {
        "colab": {
          "base_uri": "https://localhost:8080/"
        },
        "id": "r33uBddVtvKF",
        "outputId": "475186d2-37b0-43ab-eb1d-f1811c830fdb"
      },
      "execution_count": null,
      "outputs": [
        {
          "output_type": "stream",
          "name": "stdout",
          "text": [
            "[2 5 7]\n",
            "[1 3 4 6]\n",
            "[8 9]\n"
          ]
        }
      ]
    }
  ]
}